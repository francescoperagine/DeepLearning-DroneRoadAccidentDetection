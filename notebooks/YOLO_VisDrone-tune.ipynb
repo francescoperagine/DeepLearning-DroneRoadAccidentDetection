{
 "cells": [
  {
   "cell_type": "code",
   "execution_count": null,
   "metadata": {
    "id": "h04mIHIKdUZr"
   },
   "outputs": [],
   "source": [
    "import sys\n",
    "import locale\n",
    "import os\n",
    "os.environ[\"RAY_TRAIN_V2_ENABLED\"] = \"0\""
   ]
  },
  {
   "cell_type": "code",
   "execution_count": null,
   "metadata": {
    "collapsed": true,
    "id": "JFSp9IV98xBU"
   },
   "outputs": [],
   "source": [
    "sys.dont_write_bytecode = True\n",
    "locale.getpreferredencoding = lambda: \"UTF-8\""
   ]
  },
  {
   "cell_type": "code",
   "execution_count": null,
   "metadata": {
    "colab": {
     "base_uri": "https://localhost:8080/"
    },
    "executionInfo": {
     "elapsed": 2679,
     "status": "ok",
     "timestamp": 1740876739174,
     "user": {
      "displayName": "Francesco",
      "userId": "17757392889991151115"
     },
     "user_tz": -60
    },
    "id": "cFCI92wYdpJt",
    "outputId": "59deaabc-97eb-43ed-b740-2e10aa148256"
   },
   "outputs": [],
   "source": [
    "!pip install loguru==0.7.3 python-dotenv==1.0.1 PyYAML==6.0.2 torch==2.5.1 tqdm==4.67.1 typer==0.15.1 matplotlib==3.10.0 pyarrow==18.1.0 setuptools==75.1.0 protobuf==4.25.3 wandb==0.19.7 ultralytics==8.3.78 ray==2.43.0 albumentations==2.0.5"
   ]
  },
  {
   "cell_type": "code",
   "execution_count": null,
   "metadata": {
    "id": "f9Lvj0CudUZw"
   },
   "outputs": [],
   "source": [
    "#EyeConfig\n",
    "\n",
    "import yaml\n",
    "from pathlib import Path\n",
    "from dotenv import dotenv_values\n",
    "import torch\n",
    "\n",
    "class EyeConfig:\n",
    "    \"\"\"Singleton class for managing project configuration and secrets.\"\"\"\n",
    "    _instance = None\n",
    "\n",
    "    def __new__(cls):\n",
    "        if cls._instance is None:\n",
    "            cls._instance = super().__new__(cls)\n",
    "        return cls._instance\n",
    "\n",
    "    @staticmethod\n",
    "    def load(config_file: str) -> dict:\n",
    "        \"\"\"Load and return configuration from YAML file.\"\"\"\n",
    "        with open(config_file, \"r\") as f:\n",
    "            return yaml.safe_load(f)\n",
    "\n",
    "    @staticmethod\n",
    "    def get_device() -> str:\n",
    "        try:\n",
    "            return 0 if torch.cuda.is_available() else \"cpu\"\n",
    "        except Exception as e:\n",
    "            print(f\"Error setting device: {e}\")\n",
    "\n",
    "    @staticmethod\n",
    "    def get_wandb_key_colab() -> str:\n",
    "        from google.colab import userdata # type: ignore\n",
    "        if userdata.get(\"WANDB_API_KEY\") is not None:\n",
    "            return userdata.get(\"WANDB_API_KEY\")\n",
    "        else:\n",
    "            raise ValueError(\"No WANDB key found\")\n",
    "    @staticmethod\n",
    "    def get_wandb_key(path: Path = \".env\") -> str:\n",
    "        \"\"\"Get W&B API key from Colab userdata or environment variable\"\"\"\n",
    "\n",
    "        if not path.exists():\n",
    "            raise FileNotFoundError(f\"Could not find .env file at {path}\")\n",
    "\n",
    "        print(f\"Loading secrets from {path}\")\n",
    "\n",
    "        secrets = dotenv_values(path)\n",
    "        print(f\"Found keys: {list(secrets.keys())}\")\n",
    "\n",
    "        if \"WANDB_API_KEY\" not in secrets:\n",
    "            raise KeyError(f\"WANDB_API_KEY not found in {path}. Available keys: {list(secrets.keys())}\")\n",
    "\n",
    "        return secrets['WANDB_API_KEY']"
   ]
  },
  {
   "cell_type": "code",
   "execution_count": null,
   "metadata": {
    "colab": {
     "base_uri": "https://localhost:8080/"
    },
    "executionInfo": {
     "elapsed": 1783,
     "status": "ok",
     "timestamp": 1740876742949,
     "user": {
      "displayName": "Francesco",
      "userId": "17757392889991151115"
     },
     "user_tz": -60
    },
    "id": "UeN2NJ7MdUZw",
    "outputId": "d9ba7b15-a313-4153-e63f-859881c5a318"
   },
   "outputs": [],
   "source": [
    "#EyeBuilder\n",
    "from pathlib import Path\n",
    "from ultralytics import YOLO, settings\n",
    "import wandb\n",
    "from typing import Dict, Optional, Union\n",
    "import logging\n",
    "import os\n",
    "\n",
    "class EyeBuilder:\n",
    "    def __init__(self, model: YOLO, config: Dict, dataset_path: Optional[str] = None, wandb_key: Optional[str] = None, project_root: Optional[Union[str, Path]] = None) -> None:\n",
    "        self.model = model\n",
    "        self.config = config\n",
    "        self.dataset_path = f\"{config['dataset_name']}.yaml\" if dataset_path is None else dataset_path\n",
    "        self.wandb_key = wandb_key\n",
    "        self.project_root = project_root\n",
    "\n",
    "        self.logger = logging.getLogger(__name__)\n",
    "        self.device = EyeConfig.get_device()\n",
    "\n",
    "    def wandb_init(self, name) -> None:\n",
    "        \"\"\"Setup Weights & Biases tracking.\n",
    "\n",
    "        Args:\n",
    "            wandb_key: Optional API key for Weights & Biases\n",
    "            project_root: Optional path to the project root directory. If not provided,\n",
    "                        will use the current working directory.\n",
    "        \"\"\"\n",
    "        # Use provided project root or fall back to current directory\n",
    "        if self.project_root is None:\n",
    "            self.project_root = Path(os.getcwd())\n",
    "\n",
    "        # Create the full path for wandb directory\n",
    "        wandb_dir = self.project_root / self.config[\"wandb\"][\"dir\"]\n",
    "        self.logger.info(f\"Using wandb directory: {wandb_dir}\")\n",
    "\n",
    "        # Create directory if it doesn't exist\n",
    "        wandb_dir.mkdir(parents=True, exist_ok=True)\n",
    "\n",
    "        if self.wandb_key:\n",
    "            wandb.login(key=self.wandb_key)\n",
    "\n",
    "        wandb.init(\n",
    "            project=self.config[\"project\"],\n",
    "            name=name,\n",
    "            dir=str(wandb_dir),\n",
    "        )\n",
    "\n",
    "        settings.update({\"wandb\": True})\n",
    "\n",
    "    def train(self, model):\n",
    "        \"\"\"Train the YOLO model with specified parameters.\"\"\"\n",
    "        self.wandb_init(f\"{self.config['model_name']}_{self.config['dataset_name']}_train\")\n",
    "\n",
    "        train_kwargs = self.config[\"train\"]\n",
    "        results = model.train(\n",
    "            data=str(self.dataset_path),\n",
    "            device=self.device,\n",
    "            **train_kwargs\n",
    "        )\n",
    "        wandb.finish()\n",
    "        return results\n",
    "\n",
    "    def tune(self, search_space):\n",
    "        \"\"\"Perform hyperparameter tuning on the model.\"\"\"\n",
    "        self.wandb_init(f\"{self.config['model_name']}_{self.config['dataset_name']}_tune\")\n",
    "\n",
    "        tune = self.config[\"tune\"]\n",
    "        result_grid = self.model.tune(\n",
    "            data=str(self.dataset_path),\n",
    "            save_dir=Path(self.project_root / self.config[\"models_dir\"]),\n",
    "            device=self.device,\n",
    "            project=self.config[\"project\"],\n",
    "            name=tune[\"name\"],\n",
    "            epochs=tune[\"epochs\"],\n",
    "            iterations=tune[\"iterations\"],\n",
    "            batch=tune[\"batch\"],\n",
    "            workers=tune[\"workers\"],\n",
    "            seed=tune[\"seed\"],\n",
    "            plots=tune[\"plots\"],\n",
    "            val=tune[\"val\"],\n",
    "            cos_lr=tune[\"cos_lr\"],\n",
    "            use_ray=tune[\"use_ray\"],\n",
    "            imgsz=tune[\"imgsz\"],\n",
    "            exist_ok=tune[\"exist_ok\"],\n",
    "            save=tune[\"save\"],\n",
    "            save_period=tune[\"save_period\"],\n",
    "            optimizer=\"AdamW\",\n",
    "            space=search_space,\n",
    "        )\n",
    "        wandb.finish()\n",
    "        return result_grid"
   ]
  },
  {
   "cell_type": "code",
   "execution_count": null,
   "metadata": {
    "id": "MmZW2nXqdUZx"
   },
   "outputs": [],
   "source": [
    "# wandb_api_key = EyeConfig.get_wandb_key()\n",
    "wandb_api_key = EyeConfig.get_wandb_key(Path(\"../.env\"))"
   ]
  },
  {
   "cell_type": "code",
   "execution_count": null,
   "metadata": {
    "id": "OWOz0dWfAtIw"
   },
   "outputs": [],
   "source": [
    "from ray import tune\n",
    "\n",
    "search_space = {\n",
    "    \"lr0\": tune.choice([1e-4, 1e-3]),     # Keep it low for fine-tuning\n",
    "    \"lrf\": tune.choice([0.01, 0.1]),          # Learning rate factor\n",
    "    \"momentum\": tune.choice([0.8, 0.9, 0.95]),         # High momentum for stability\n",
    "    \"weight_decay\": tune.choice([0.0, 0.001]),         # Minimal regularization\n",
    "    \"box\": tune.uniform(2.0, 8.0),  # box loss gain\n",
    "    \"cls\": tune.uniform(0.2, 2.0),  # cls loss gain (scale with pixels)\n",
    "    \"dfl\": tune.uniform(3.0, 6.0),  # dfl loss gain\n",
    "}"
   ]
  },
  {
   "cell_type": "code",
   "execution_count": null,
   "metadata": {
    "id": "0UUlpjRsAwgc"
   },
   "outputs": [],
   "source": [
    "config = EyeConfig.load(\"../config/config.yaml\")\n",
    "model_path = f\"../{config['models_dir']}/{config['model_name']}.pt\"\n",
    "model = YOLO(model_path, task=\"detect\")"
   ]
  },
  {
   "cell_type": "code",
   "execution_count": null,
   "metadata": {
    "collapsed": true,
    "id": "cSYtpY6BdUZx"
   },
   "outputs": [],
   "source": [
    "project_root = Path(os.getcwd()).parent\n",
    "builder = EyeBuilder(model=model, config=config, wandb_key=wandb_api_key, project_root=project_root)"
   ]
  },
  {
   "cell_type": "code",
   "execution_count": null,
   "metadata": {
    "id": "QqrCuXOpAzuO"
   },
   "outputs": [],
   "source": [
    "result_grid = builder.tune(search_space)"
   ]
  },
  {
   "cell_type": "code",
   "execution_count": null,
   "metadata": {
    "id": "ICqxkRBYK7T_"
   },
   "outputs": [],
   "source": [
    "# from google.colab import userdata, files\n",
    "\n",
    "# timestamp = time.strftime(\"%Y%m%d_%H%M%S\")\n",
    "# zip_filename = f\"/content/EyeInTheSky_tune_{timestamp}.zip\"\n",
    "\n",
    "# !zip -r \"$zip_filename\" f/content/EyeInTheSky/tune\n",
    "\n",
    "# files.download(zip_filename)"
   ]
  },
  {
   "cell_type": "code",
   "execution_count": null,
   "metadata": {
    "id": "FVdngIxr6F7R"
   },
   "outputs": [],
   "source": [
    "# import shutil\n",
    "\n",
    "# drive.mount('/content/drive')\n",
    "\n",
    "# timestamp = time.strftime(\"%Y%m%d_%H%M%S\")\n",
    "# source_folder = '/content/EyeInTheSky/tune'\n",
    "# destination_folder = f'/content/drive/My Drive/EyeInTheSky/tune_{timestamp}'\n",
    "\n",
    "# shutil.copytree(source_folder, destination_folder)"
   ]
  },
  {
   "cell_type": "code",
   "execution_count": null,
   "metadata": {
    "id": "1miBC6ardUZy"
   },
   "outputs": [],
   "source": [
    "# plotter = EyePlotter()\n",
    "# plotter.show_trial_results_metrics(results)\n",
    "# plotter.show_results_plots(results, config[\"reports_dir\"], config[\"name\"])"
   ]
  }
 ],
 "metadata": {
  "accelerator": "GPU",
  "colab": {
   "gpuType": "T4",
   "machine_shape": "hm",
   "provenance": [
    {
     "file_id": "12R-K-7uKtA1zhUWEL8fr8PXpVT9y4oKJ",
     "timestamp": 1740865915151
    }
   ]
  },
  "kernelspec": {
   "display_name": "venv",
   "language": "python",
   "name": "python3"
  },
  "language_info": {
   "codemirror_mode": {
    "name": "ipython",
    "version": 3
   },
   "file_extension": ".py",
   "mimetype": "text/x-python",
   "name": "python",
   "nbconvert_exporter": "python",
   "pygments_lexer": "ipython3",
   "version": "3.10.12"
  }
 },
 "nbformat": 4,
 "nbformat_minor": 0
}
