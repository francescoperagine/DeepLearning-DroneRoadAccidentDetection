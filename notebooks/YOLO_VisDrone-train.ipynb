{
 "cells": [
  {
   "cell_type": "code",
   "execution_count": 1,
   "metadata": {},
   "outputs": [],
   "source": [
    "import os\n",
    "os.environ['YOLO_VERBOSE'] = 'false'"
   ]
  },
  {
   "cell_type": "code",
   "execution_count": 2,
   "metadata": {
    "colab": {
     "base_uri": "https://localhost:8080/"
    },
    "executionInfo": {
     "elapsed": 2630,
     "status": "ok",
     "timestamp": 1740856788765,
     "user": {
      "displayName": "Francesco",
      "userId": "17757392889991151115"
     },
     "user_tz": -60
    },
    "id": "cFCI92wYdpJt",
    "outputId": "03726593-b513-4d1f-a49a-d60bcad195b4"
   },
   "outputs": [
    {
     "name": "stdout",
     "output_type": "stream",
     "text": [
      "Requirement already satisfied: loguru==0.7.3 in /ext/home/fperagine/EyeInTheSky/venv/lib/python3.10/site-packages (0.7.3)\n",
      "Requirement already satisfied: python-dotenv==1.0.1 in /ext/home/fperagine/EyeInTheSky/venv/lib/python3.10/site-packages (1.0.1)\n",
      "Requirement already satisfied: PyYAML==6.0.2 in /ext/home/fperagine/EyeInTheSky/venv/lib/python3.10/site-packages (6.0.2)\n",
      "Requirement already satisfied: torch==2.5.1 in /ext/home/fperagine/EyeInTheSky/venv/lib/python3.10/site-packages (2.5.1)\n",
      "Requirement already satisfied: tqdm==4.67.1 in /ext/home/fperagine/EyeInTheSky/venv/lib/python3.10/site-packages (4.67.1)\n",
      "Requirement already satisfied: typer==0.15.1 in /ext/home/fperagine/EyeInTheSky/venv/lib/python3.10/site-packages (0.15.1)\n",
      "Requirement already satisfied: matplotlib==3.10.0 in /ext/home/fperagine/EyeInTheSky/venv/lib/python3.10/site-packages (3.10.0)\n",
      "Requirement already satisfied: pyarrow==18.1.0 in /ext/home/fperagine/EyeInTheSky/venv/lib/python3.10/site-packages (18.1.0)\n",
      "Requirement already satisfied: setuptools==75.1.0 in /ext/home/fperagine/EyeInTheSky/venv/lib/python3.10/site-packages (75.1.0)\n",
      "Requirement already satisfied: protobuf==4.25.3 in /ext/home/fperagine/EyeInTheSky/venv/lib/python3.10/site-packages (4.25.3)\n",
      "Requirement already satisfied: ultralytics==8.3.90 in /ext/home/fperagine/EyeInTheSky/venv/lib/python3.10/site-packages (8.3.90)\n",
      "Requirement already satisfied: ray==2.43.0 in /ext/home/fperagine/EyeInTheSky/venv/lib/python3.10/site-packages (2.43.0)\n",
      "Requirement already satisfied: albumentations==2.0.5 in /ext/home/fperagine/EyeInTheSky/venv/lib/python3.10/site-packages (2.0.5)\n",
      "Requirement already satisfied: pandas in /ext/home/fperagine/EyeInTheSky/venv/lib/python3.10/site-packages (2.2.3)\n",
      "Requirement already satisfied: nvidia-cusparse-cu12==12.3.1.170 in /ext/home/fperagine/EyeInTheSky/venv/lib/python3.10/site-packages (from torch==2.5.1) (12.3.1.170)\n",
      "Requirement already satisfied: nvidia-cudnn-cu12==9.1.0.70 in /ext/home/fperagine/EyeInTheSky/venv/lib/python3.10/site-packages (from torch==2.5.1) (9.1.0.70)\n",
      "Requirement already satisfied: nvidia-cusolver-cu12==11.6.1.9 in /ext/home/fperagine/EyeInTheSky/venv/lib/python3.10/site-packages (from torch==2.5.1) (11.6.1.9)\n",
      "Requirement already satisfied: nvidia-cuda-cupti-cu12==12.4.127 in /ext/home/fperagine/EyeInTheSky/venv/lib/python3.10/site-packages (from torch==2.5.1) (12.4.127)\n",
      "Requirement already satisfied: networkx in /ext/home/fperagine/EyeInTheSky/venv/lib/python3.10/site-packages (from torch==2.5.1) (3.4.2)\n",
      "Requirement already satisfied: filelock in /ext/home/fperagine/EyeInTheSky/venv/lib/python3.10/site-packages (from torch==2.5.1) (3.17.0)\n",
      "Requirement already satisfied: nvidia-cublas-cu12==12.4.5.8 in /ext/home/fperagine/EyeInTheSky/venv/lib/python3.10/site-packages (from torch==2.5.1) (12.4.5.8)\n",
      "Requirement already satisfied: nvidia-nvtx-cu12==12.4.127 in /ext/home/fperagine/EyeInTheSky/venv/lib/python3.10/site-packages (from torch==2.5.1) (12.4.127)\n",
      "Requirement already satisfied: nvidia-curand-cu12==10.3.5.147 in /ext/home/fperagine/EyeInTheSky/venv/lib/python3.10/site-packages (from torch==2.5.1) (10.3.5.147)\n",
      "Requirement already satisfied: fsspec in /ext/home/fperagine/EyeInTheSky/venv/lib/python3.10/site-packages (from torch==2.5.1) (2025.2.0)\n",
      "Requirement already satisfied: triton==3.1.0 in /ext/home/fperagine/EyeInTheSky/venv/lib/python3.10/site-packages (from torch==2.5.1) (3.1.0)\n",
      "Requirement already satisfied: typing-extensions>=4.8.0 in /ext/home/fperagine/EyeInTheSky/venv/lib/python3.10/site-packages (from torch==2.5.1) (4.12.2)\n",
      "Requirement already satisfied: jinja2 in /ext/home/fperagine/EyeInTheSky/venv/lib/python3.10/site-packages (from torch==2.5.1) (3.1.5)\n",
      "Requirement already satisfied: nvidia-nvjitlink-cu12==12.4.127 in /ext/home/fperagine/EyeInTheSky/venv/lib/python3.10/site-packages (from torch==2.5.1) (12.4.127)\n",
      "Requirement already satisfied: nvidia-cufft-cu12==11.2.1.3 in /ext/home/fperagine/EyeInTheSky/venv/lib/python3.10/site-packages (from torch==2.5.1) (11.2.1.3)\n",
      "Requirement already satisfied: nvidia-cuda-runtime-cu12==12.4.127 in /ext/home/fperagine/EyeInTheSky/venv/lib/python3.10/site-packages (from torch==2.5.1) (12.4.127)\n",
      "Requirement already satisfied: sympy==1.13.1 in /ext/home/fperagine/EyeInTheSky/venv/lib/python3.10/site-packages (from torch==2.5.1) (1.13.1)\n",
      "Requirement already satisfied: nvidia-cuda-nvrtc-cu12==12.4.127 in /ext/home/fperagine/EyeInTheSky/venv/lib/python3.10/site-packages (from torch==2.5.1) (12.4.127)\n",
      "Requirement already satisfied: nvidia-nccl-cu12==2.21.5 in /ext/home/fperagine/EyeInTheSky/venv/lib/python3.10/site-packages (from torch==2.5.1) (2.21.5)\n",
      "Requirement already satisfied: click>=8.0.0 in /ext/home/fperagine/EyeInTheSky/venv/lib/python3.10/site-packages (from typer==0.15.1) (8.1.8)\n",
      "Requirement already satisfied: shellingham>=1.3.0 in /ext/home/fperagine/EyeInTheSky/venv/lib/python3.10/site-packages (from typer==0.15.1) (1.5.4)\n",
      "Requirement already satisfied: rich>=10.11.0 in /ext/home/fperagine/EyeInTheSky/venv/lib/python3.10/site-packages (from typer==0.15.1) (13.9.4)\n",
      "Requirement already satisfied: fonttools>=4.22.0 in /ext/home/fperagine/EyeInTheSky/venv/lib/python3.10/site-packages (from matplotlib==3.10.0) (4.56.0)\n",
      "Requirement already satisfied: pillow>=8 in /ext/home/fperagine/EyeInTheSky/venv/lib/python3.10/site-packages (from matplotlib==3.10.0) (11.1.0)\n",
      "Requirement already satisfied: contourpy>=1.0.1 in /ext/home/fperagine/EyeInTheSky/venv/lib/python3.10/site-packages (from matplotlib==3.10.0) (1.3.1)\n",
      "Requirement already satisfied: packaging>=20.0 in /ext/home/fperagine/EyeInTheSky/venv/lib/python3.10/site-packages (from matplotlib==3.10.0) (24.2)\n",
      "Requirement already satisfied: numpy>=1.23 in /ext/home/fperagine/EyeInTheSky/venv/lib/python3.10/site-packages (from matplotlib==3.10.0) (2.1.1)\n",
      "Requirement already satisfied: pyparsing>=2.3.1 in /ext/home/fperagine/EyeInTheSky/venv/lib/python3.10/site-packages (from matplotlib==3.10.0) (3.2.1)\n",
      "Requirement already satisfied: python-dateutil>=2.7 in /ext/home/fperagine/EyeInTheSky/venv/lib/python3.10/site-packages (from matplotlib==3.10.0) (2.9.0.post0)\n",
      "Requirement already satisfied: kiwisolver>=1.3.1 in /ext/home/fperagine/EyeInTheSky/venv/lib/python3.10/site-packages (from matplotlib==3.10.0) (1.4.8)\n",
      "Requirement already satisfied: cycler>=0.10 in /ext/home/fperagine/EyeInTheSky/venv/lib/python3.10/site-packages (from matplotlib==3.10.0) (0.12.1)\n",
      "Requirement already satisfied: psutil in /ext/home/fperagine/EyeInTheSky/venv/lib/python3.10/site-packages (from ultralytics==8.3.90) (7.0.0)\n",
      "Requirement already satisfied: opencv-python>=4.6.0 in /ext/home/fperagine/EyeInTheSky/venv/lib/python3.10/site-packages (from ultralytics==8.3.90) (4.11.0.86)\n",
      "Requirement already satisfied: ultralytics-thop>=2.0.0 in /ext/home/fperagine/EyeInTheSky/venv/lib/python3.10/site-packages (from ultralytics==8.3.90) (2.0.14)\n",
      "Requirement already satisfied: torchvision>=0.9.0 in /ext/home/fperagine/EyeInTheSky/venv/lib/python3.10/site-packages (from ultralytics==8.3.90) (0.20.1)\n",
      "Requirement already satisfied: seaborn>=0.11.0 in /ext/home/fperagine/EyeInTheSky/venv/lib/python3.10/site-packages (from ultralytics==8.3.90) (0.13.2)\n",
      "Requirement already satisfied: scipy>=1.4.1 in /ext/home/fperagine/EyeInTheSky/venv/lib/python3.10/site-packages (from ultralytics==8.3.90) (1.15.2)\n",
      "Requirement already satisfied: py-cpuinfo in /ext/home/fperagine/EyeInTheSky/venv/lib/python3.10/site-packages (from ultralytics==8.3.90) (9.0.0)\n",
      "Requirement already satisfied: requests>=2.23.0 in /ext/home/fperagine/EyeInTheSky/venv/lib/python3.10/site-packages (from ultralytics==8.3.90) (2.32.3)\n",
      "Requirement already satisfied: msgpack<2.0.0,>=1.0.0 in /ext/home/fperagine/EyeInTheSky/venv/lib/python3.10/site-packages (from ray==2.43.0) (1.1.0)\n",
      "Requirement already satisfied: frozenlist in /ext/home/fperagine/EyeInTheSky/venv/lib/python3.10/site-packages (from ray==2.43.0) (1.5.0)\n",
      "Requirement already satisfied: jsonschema in /ext/home/fperagine/EyeInTheSky/venv/lib/python3.10/site-packages (from ray==2.43.0) (4.23.0)\n",
      "Requirement already satisfied: aiosignal in /ext/home/fperagine/EyeInTheSky/venv/lib/python3.10/site-packages (from ray==2.43.0) (1.3.2)\n",
      "Requirement already satisfied: pydantic>=2.9.2 in /ext/home/fperagine/EyeInTheSky/venv/lib/python3.10/site-packages (from albumentations==2.0.5) (2.10.6)\n",
      "Requirement already satisfied: opencv-python-headless>=4.9.0.80 in /ext/home/fperagine/EyeInTheSky/venv/lib/python3.10/site-packages (from albumentations==2.0.5) (4.11.0.86)\n",
      "Requirement already satisfied: albucore==0.0.23 in /ext/home/fperagine/EyeInTheSky/venv/lib/python3.10/site-packages (from albumentations==2.0.5) (0.0.23)\n",
      "Requirement already satisfied: stringzilla>=3.10.4 in /ext/home/fperagine/EyeInTheSky/venv/lib/python3.10/site-packages (from albucore==0.0.23->albumentations==2.0.5) (3.12.2)\n",
      "Requirement already satisfied: simsimd>=5.9.2 in /ext/home/fperagine/EyeInTheSky/venv/lib/python3.10/site-packages (from albucore==0.0.23->albumentations==2.0.5) (6.2.1)\n",
      "Requirement already satisfied: mpmath<1.4,>=1.1.0 in /ext/home/fperagine/EyeInTheSky/venv/lib/python3.10/site-packages (from sympy==1.13.1->torch==2.5.1) (1.3.0)\n",
      "Requirement already satisfied: tzdata>=2022.7 in /ext/home/fperagine/EyeInTheSky/venv/lib/python3.10/site-packages (from pandas) (2025.1)\n",
      "Requirement already satisfied: pytz>=2020.1 in /ext/home/fperagine/EyeInTheSky/venv/lib/python3.10/site-packages (from pandas) (2025.1)\n",
      "Requirement already satisfied: pydantic-core==2.27.2 in /ext/home/fperagine/EyeInTheSky/venv/lib/python3.10/site-packages (from pydantic>=2.9.2->albumentations==2.0.5) (2.27.2)\n",
      "Requirement already satisfied: annotated-types>=0.6.0 in /ext/home/fperagine/EyeInTheSky/venv/lib/python3.10/site-packages (from pydantic>=2.9.2->albumentations==2.0.5) (0.7.0)\n",
      "Requirement already satisfied: six>=1.5 in /ext/home/fperagine/EyeInTheSky/venv/lib/python3.10/site-packages (from python-dateutil>=2.7->matplotlib==3.10.0) (1.17.0)\n",
      "Requirement already satisfied: urllib3<3,>=1.21.1 in /ext/home/fperagine/EyeInTheSky/venv/lib/python3.10/site-packages (from requests>=2.23.0->ultralytics==8.3.90) (2.3.0)\n",
      "Requirement already satisfied: charset-normalizer<4,>=2 in /ext/home/fperagine/EyeInTheSky/venv/lib/python3.10/site-packages (from requests>=2.23.0->ultralytics==8.3.90) (3.4.1)\n",
      "Requirement already satisfied: certifi>=2017.4.17 in /ext/home/fperagine/EyeInTheSky/venv/lib/python3.10/site-packages (from requests>=2.23.0->ultralytics==8.3.90) (2025.1.31)\n",
      "Requirement already satisfied: idna<4,>=2.5 in /ext/home/fperagine/EyeInTheSky/venv/lib/python3.10/site-packages (from requests>=2.23.0->ultralytics==8.3.90) (3.10)\n",
      "Requirement already satisfied: markdown-it-py>=2.2.0 in /ext/home/fperagine/EyeInTheSky/venv/lib/python3.10/site-packages (from rich>=10.11.0->typer==0.15.1) (3.0.0)\n",
      "Requirement already satisfied: pygments<3.0.0,>=2.13.0 in /ext/home/fperagine/EyeInTheSky/venv/lib/python3.10/site-packages (from rich>=10.11.0->typer==0.15.1) (2.19.1)\n",
      "Requirement already satisfied: MarkupSafe>=2.0 in /ext/home/fperagine/EyeInTheSky/venv/lib/python3.10/site-packages (from jinja2->torch==2.5.1) (3.0.2)\n",
      "Requirement already satisfied: jsonschema-specifications>=2023.03.6 in /ext/home/fperagine/EyeInTheSky/venv/lib/python3.10/site-packages (from jsonschema->ray==2.43.0) (2024.10.1)\n",
      "Requirement already satisfied: rpds-py>=0.7.1 in /ext/home/fperagine/EyeInTheSky/venv/lib/python3.10/site-packages (from jsonschema->ray==2.43.0) (0.23.1)\n",
      "Requirement already satisfied: attrs>=22.2.0 in /ext/home/fperagine/EyeInTheSky/venv/lib/python3.10/site-packages (from jsonschema->ray==2.43.0) (25.1.0)\n",
      "Requirement already satisfied: referencing>=0.28.4 in /ext/home/fperagine/EyeInTheSky/venv/lib/python3.10/site-packages (from jsonschema->ray==2.43.0) (0.36.2)\n",
      "Requirement already satisfied: mdurl~=0.1 in /ext/home/fperagine/EyeInTheSky/venv/lib/python3.10/site-packages (from markdown-it-py>=2.2.0->rich>=10.11.0->typer==0.15.1) (0.1.2)\n",
      "Note: you may need to restart the kernel to use updated packages.\n"
     ]
    }
   ],
   "source": [
    "%pip install loguru==0.7.3 python-dotenv==1.0.1 PyYAML==6.0.2 torch==2.5.1 tqdm==4.67.1 typer==0.15.1 matplotlib==3.10.0 pyarrow==18.1.0 setuptools==75.1.0 protobuf==4.25.3 ultralytics==8.3.90 ray==2.43.0 albumentations==2.0.5 pandas"
   ]
  },
  {
   "cell_type": "code",
   "execution_count": null,
   "metadata": {
    "id": "h04mIHIKdUZr"
   },
   "outputs": [],
   "source": [
    "from datetime import datetime\n",
    "from pathlib import Path\n",
    "from ultralytics import YOLO, RTDETR, settings\n",
    "import gc\n",
    "import json\n",
    "import locale\n",
    "import os\n",
    "import pandas as pd\n",
    "import sys\n",
    "import torch\n",
    "import wandb\n",
    "import yaml\n",
    "from ultralytics.data.dataset import YOLODataset\n",
    "from ultralytics.models.yolo.detect import DetectionTrainer, DetectionValidator\n",
    "from ultralytics.utils import colorstr, LOGGER\n",
    "import numpy as np\n",
    "\n",
    "sys.dont_write_bytecode = True\n",
    "locale.getpreferredencoding = lambda: \"UTF-8\""
   ]
  },
  {
   "cell_type": "code",
   "execution_count": null,
   "metadata": {},
   "outputs": [],
   "source": [
    "# Config\n",
    "\n",
    "config_data = \"\"\"\n",
    "wandb_project: \"EyeInTheSky_merged\"\n",
    "data: \"VisDrone.yaml\"\n",
    "k_samples: 3\n",
    "train:\n",
    "  model: \"yolo11n.pt\"\n",
    "  project: \"EyeInTheSky\"\n",
    "  data: \"VisDrone.yaml\"\n",
    "  pretrained: True\n",
    "  patience: 5\n",
    "  task: detect\n",
    "  epochs: 400\n",
    "  batch: 16\n",
    "  workers: 8\n",
    "  seed: 42\n",
    "  plots: True\n",
    "  imgsz: 640\n",
    "  exist_ok: False\n",
    "  save: True\n",
    "  save_period: 10\n",
    "  val: True\n",
    "  warmup_epochs: 10\n",
    "  visualize: True\n",
    "  show: True\n",
    "  single_cls: False\n",
    "  rect: False\n",
    "  resume: False\n",
    "  fraction: 1.0\n",
    "  freeze: None\n",
    "  cache: False\n",
    "  verbose: False\n",
    "val:\n",
    "  project: \"EyeInTheSky\"\n",
    "  half: True\n",
    "  conf: 0.25\n",
    "  iou: 0.6\n",
    "  split: \"test\"\n",
    "  rect: True\n",
    "  plots: True\n",
    "  visualize: True\n",
    "\"\"\""
   ]
  },
  {
   "cell_type": "code",
   "execution_count": 5,
   "metadata": {},
   "outputs": [],
   "source": [
    "# Get device\n",
    "\n",
    "def get_device() -> str:\n",
    "    try:\n",
    "        return 0 if torch.cuda.is_available() else \"cpu\"\n",
    "    except Exception as e:\n",
    "        print(f\"Error setting device: {e}\")"
   ]
  },
  {
   "cell_type": "code",
   "execution_count": 6,
   "metadata": {
    "id": "9U8n6O74dUZx"
   },
   "outputs": [],
   "source": [
    "# Load config\n",
    "\n",
    "# config = Config.load(\"../config/config.yaml\")\n",
    "config = yaml.safe_load(config_data)\n",
    "config[\"train\"].update({\"device\" : get_device()})"
   ]
  },
  {
   "cell_type": "code",
   "execution_count": 7,
   "metadata": {},
   "outputs": [],
   "source": [
    "# Get Wandb key\n",
    "\n",
    "def get_wandb_key_colab() -> str:\n",
    "    try:\n",
    "        from google.colab import userdata # type: ignore\n",
    "\n",
    "        if userdata.get(\"WANDB_API_KEY\") is not None:\n",
    "            return userdata.get(\"WANDB_API_KEY\")\n",
    "        else:\n",
    "            raise ValueError(\"No WANDB key found\")\n",
    "    except:\n",
    "        return None\n",
    "\n",
    "def get_wandb_env(path: Path) -> str:\n",
    "    try:\n",
    "        from dotenv import dotenv_values # type: ignore\n",
    "\n",
    "        \"\"\"Get W&B API key from Colab userdata or environment variable\"\"\"\n",
    "\n",
    "        path = Path(path)\n",
    "        if not path.exists():\n",
    "            raise FileNotFoundError(f\"Could not find .env file at {path}\")\n",
    "\n",
    "        print(f\"Loading secrets from {path}\")\n",
    "\n",
    "        secrets = dotenv_values(path)\n",
    "        print(f\"Found keys: {list(secrets.keys())}\")\n",
    "\n",
    "        if \"WANDB_API_KEY\" not in secrets:\n",
    "            raise KeyError(f\"WANDB_API_KEY not found in {path}. Available keys: {list(secrets.keys())}\")\n",
    "\n",
    "        return secrets['WANDB_API_KEY']\n",
    "    except:\n",
    "        return None\n",
    "\n",
    "def get_wandb_key(path: Path = \"../.env\") -> str:\n",
    "    return get_wandb_key_colab() if get_wandb_key_colab() is not None else get_wandb_env(path)"
   ]
  },
  {
   "cell_type": "code",
   "execution_count": 8,
   "metadata": {},
   "outputs": [],
   "source": [
    "# Dataset, Trainer, Validator\n",
    "\n",
    "class VisDroneDataset(YOLODataset):\n",
    "    \"\"\"\n",
    "    Custom dataset for VisDrone that merges pedestrian (0) and people (1) classes.\n",
    "    Handles class remapping at the earliest possible stage.\n",
    "    \"\"\"\n",
    "    \n",
    "    # Define the merged names as a class attribute to be accessible from the trainer\n",
    "    merged_names = {\n",
    "        0: 'persona',\n",
    "        1: 'bicicletta',\n",
    "        2: 'auto',\n",
    "        3: 'furgone',\n",
    "        4: 'camion',\n",
    "        5: 'triciclo',\n",
    "        6: 'triciclo-tendato',\n",
    "        7: 'autobus',\n",
    "        8: 'motociclo'\n",
    "    }\n",
    "    \n",
    "    def __init__(self, *args, **kwargs):\n",
    "        # Initialize parent class with modified kwargs\n",
    "        super().__init__(*args, **kwargs)\n",
    "        \n",
    "        # Log class mapping\n",
    "        LOGGER.info(f\"{colorstr('VisDroneDataset:')} Using merged classes: {self.merged_names}\")\n",
    "    \n",
    "    def get_labels(self):\n",
    "        \"\"\"\n",
    "        Load and process labels with class remapping.\n",
    "        \"\"\"\n",
    "        # Get labels from parent method\n",
    "        labels = super().get_labels()\n",
    "        \n",
    "        # Process statistics\n",
    "        people_count = 0\n",
    "        shifted_count = 0\n",
    "        \n",
    "        # Process labels to merge classes\n",
    "        for i in range(len(labels)):\n",
    "            cls = labels[i]['cls']\n",
    "            \n",
    "            if len(cls) > 0:\n",
    "                # Count 'people' instances\n",
    "                people_mask = cls == 1\n",
    "                people_count += np.sum(people_mask)\n",
    "                \n",
    "                # Merge class 1 (people) into class 0 (pedestrian -> person)\n",
    "                cls[people_mask] = 0\n",
    "                \n",
    "                # Shift classes > 1 down by 1\n",
    "                gt1_mask = cls > 1\n",
    "                shifted_count += np.sum(gt1_mask)\n",
    "                cls[gt1_mask] -= 1\n",
    "                \n",
    "                # Store modified labels\n",
    "                labels[i]['cls'] = cls\n",
    "        \n",
    "        # Now set correct class count and names for training\n",
    "        if hasattr(self, 'data'):\n",
    "            # Update names and class count\n",
    "            self.data['names'] = self.merged_names\n",
    "            self.data['nc'] = len(self.merged_names)\n",
    "        \n",
    "        # Log statistics\n",
    "        person_count = sum(np.sum(label['cls'] == 0) for label in labels)\n",
    "        LOGGER.info(f\"\\n{colorstr('VisDroneDataset:')} Remapped {people_count} 'people' instances to {self.merged_names[0]}\")\n",
    "        LOGGER.info(f\"{colorstr('VisDroneDataset:')} Total 'persona' instances after merge: {person_count}\")\n",
    "        LOGGER.info(f\"{colorstr('VisDroneDataset:')} Shifted {shifted_count} instances of other classes\")\n",
    "        \n",
    "        return labels\n",
    "\n",
    "class MergedClassDetectionTrainer(DetectionTrainer):\n",
    "    \"\"\"\n",
    "    Custom trainer that uses VisDroneDataset for merged class training.\n",
    "    \"\"\"\n",
    "    \n",
    "    def build_dataset(self, img_path, mode=\"train\", batch=None):\n",
    "        \"\"\"Build custom VisDroneDataset.\"\"\"\n",
    "        return VisDroneDataset(\n",
    "            img_path=img_path,\n",
    "            imgsz=self.args.imgsz,\n",
    "            batch_size=batch or self.batch_size,\n",
    "            augment=mode == \"train\",\n",
    "            hyp=self.args,\n",
    "            rect=self.args.rect if mode == \"train\" else True,\n",
    "            cache=self.args.cache or None,\n",
    "            single_cls=self.args.single_cls,\n",
    "            stride=self.stride,\n",
    "            pad=0.0 if mode == \"train\" else 0.5,\n",
    "            prefix=colorstr(f\"{mode}: \"),\n",
    "            task=self.args.task,\n",
    "            classes=None,\n",
    "            data=self.data,\n",
    "            fraction=self.args.fraction if mode == \"train\" else 1.0,\n",
    "        )\n",
    "    \n",
    "    def set_model_attributes(self):\n",
    "        \"\"\"Update model attributes for merged classes.\"\"\"\n",
    "        # First call parent method to set standard attributes\n",
    "        super().set_model_attributes()\n",
    "        \n",
    "        # Then update model with the merged class names\n",
    "        if hasattr(self.model, 'names'):\n",
    "            # Use the merged names directly from the dataset class\n",
    "            self.model.names = VisDroneDataset.merged_names\n",
    "            self.model.nc = len(VisDroneDataset.merged_names)\n",
    "            \n",
    "            # Also update data dictionary\n",
    "            if hasattr(self, 'data'):\n",
    "                self.data['names'] = VisDroneDataset.merged_names\n",
    "                self.data['nc'] = len(VisDroneDataset.merged_names)\n",
    "\n",
    "class MergedClassDetectionValidator(DetectionValidator):\n",
    "    \"\"\"\n",
    "    Custom validator that uses VisDroneDataset for validation/testing with merged classes.\n",
    "    \"\"\"\n",
    "    \n",
    "    def build_dataset(self, img_path, mode=\"val\", batch=None):\n",
    "        \"\"\"Build custom VisDroneDataset for validation.\"\"\"\n",
    "        return VisDroneDataset(\n",
    "            img_path=img_path,\n",
    "            imgsz=self.args.imgsz,\n",
    "            batch_size=batch or self.args.batch,\n",
    "            augment=False,  # no augmentation during validation\n",
    "            hyp=self.args,\n",
    "            rect=True,  # rectangular validation for better performance\n",
    "            cache=None,\n",
    "            single_cls=self.args.single_cls,\n",
    "            stride=self.stride,\n",
    "            pad=0.5,\n",
    "            prefix=colorstr(f\"{mode}: \"),\n",
    "            task=self.args.task,\n",
    "            classes=self.args.classes,\n",
    "            data=self.data,\n",
    "        )\n",
    "    \n",
    "    def set_model_attributes(self):\n",
    "        \"\"\"Update model attributes for merged classes if using a PyTorch model.\"\"\"\n",
    "        super().set_model_attributes()\n",
    "        \n",
    "        # Update model names if it's a PyTorch model (not for exported models)\n",
    "        if hasattr(self.model, 'names') and hasattr(self.model, 'model'):\n",
    "            self.model.names = VisDroneDataset.merged_names\n",
    "            if hasattr(self.data, 'names'):\n",
    "                self.data['names'] = VisDroneDataset.merged_names\n",
    "                self.data['nc'] = len(VisDroneDataset.merged_names)"
   ]
  },
  {
   "cell_type": "code",
   "execution_count": null,
   "metadata": {
    "id": "JdA0A5b3Eli2"
   },
   "outputs": [
    {
     "name": "stdout",
     "output_type": "stream",
     "text": [
      "Top 1 Models by Fitness Score:\n"
     ]
    },
    {
     "data": {
      "text/html": [
       "<div>\n",
       "<style scoped>\n",
       "    .dataframe tbody tr th:only-of-type {\n",
       "        vertical-align: middle;\n",
       "    }\n",
       "\n",
       "    .dataframe tbody tr th {\n",
       "        vertical-align: top;\n",
       "    }\n",
       "\n",
       "    .dataframe thead th {\n",
       "        text-align: right;\n",
       "    }\n",
       "</style>\n",
       "<table border=\"1\" class=\"dataframe\">\n",
       "  <thead>\n",
       "    <tr style=\"text-align: right;\">\n",
       "      <th></th>\n",
       "      <th>fitness</th>\n",
       "      <th>metrics/mAP50(B)</th>\n",
       "      <th>metrics/mAP50-95(B)</th>\n",
       "      <th>metrics/precision(B)</th>\n",
       "      <th>metrics/recall(B)</th>\n",
       "      <th>optimizer</th>\n",
       "      <th>lr0</th>\n",
       "      <th>lrf</th>\n",
       "      <th>momentum</th>\n",
       "      <th>weight_decay</th>\n",
       "      <th>cos_lr</th>\n",
       "      <th>imgsz</th>\n",
       "      <th>box</th>\n",
       "      <th>cls</th>\n",
       "      <th>dfl</th>\n",
       "    </tr>\n",
       "  </thead>\n",
       "  <tbody>\n",
       "    <tr>\n",
       "      <th>0</th>\n",
       "      <td>0.184317</td>\n",
       "      <td>0.30057</td>\n",
       "      <td>0.1714</td>\n",
       "      <td>0.42157</td>\n",
       "      <td>0.30252</td>\n",
       "      <td>AdamW</td>\n",
       "      <td>0.001</td>\n",
       "      <td>0.1</td>\n",
       "      <td>0.8</td>\n",
       "      <td>0.001</td>\n",
       "      <td>True</td>\n",
       "      <td>640.0</td>\n",
       "      <td>3.872225</td>\n",
       "      <td>0.947276</td>\n",
       "      <td>4.117353</td>\n",
       "    </tr>\n",
       "  </tbody>\n",
       "</table>\n",
       "</div>"
      ],
      "text/plain": [
       "    fitness  metrics/mAP50(B)  metrics/mAP50-95(B)  metrics/precision(B)  \\\n",
       "0  0.184317           0.30057               0.1714               0.42157   \n",
       "\n",
       "   metrics/recall(B) optimizer    lr0  lrf  momentum  weight_decay cos_lr  \\\n",
       "0            0.30252     AdamW  0.001  0.1       0.8         0.001   True   \n",
       "\n",
       "   imgsz       box       cls       dfl  \n",
       "0  640.0  3.872225  0.947276  4.117353  "
      ]
     },
     "metadata": {},
     "output_type": "display_data"
    }
   ],
   "source": [
    "# Load top k tune results by fitness\n",
    "\n",
    "k = config[\"k_samples\"]\n",
    "\n",
    "csv_path = \"../data/processed/wandb_export_2025-03-05T10_24_46.923+01_00.csv\"\n",
    "df = pd.read_csv(csv_path)\n",
    "\n",
    "df['fitness'] = df['metrics/mAP50(B)'] * 0.1 + df['metrics/mAP50-95(B)'] * 0.9\n",
    "df_sorted = df.sort_values(by='fitness', ascending=False).head(k)\n",
    "\n",
    "columns_to_show = ['fitness', 'metrics/mAP50(B)', 'metrics/mAP50-95(B)', 'metrics/precision(B)', 'metrics/recall(B)', 'optimizer', 'lr0', 'lrf', 'momentum', 'weight_decay', 'cos_lr', 'imgsz', 'box', 'cls', 'dfl']\n",
    "\n",
    "sampled_k = df_sorted[columns_to_show].reset_index(drop=True)\n",
    "print(f\"Top {k} Models by Fitness Score:\")\n",
    "\n",
    "display(sampled_k)"
   ]
  },
  {
   "cell_type": "code",
   "execution_count": 10,
   "metadata": {},
   "outputs": [],
   "source": [
    "# Clear cache\n",
    "\n",
    "def clear_cache():\n",
    "    # Clear CUDA cache\n",
    "    if torch.cuda.is_available():\n",
    "        torch.cuda.empty_cache()\n",
    "\n",
    "    # Clear Python garbage collector\n",
    "    gc.collect()"
   ]
  },
  {
   "cell_type": "code",
   "execution_count": 11,
   "metadata": {},
   "outputs": [],
   "source": [
    "# Store results\n",
    "\n",
    "def save_results(dir, name, results):\n",
    "    os.makedirs(dir, exist_ok=True)\n",
    "\n",
    "    timestamp = datetime.now().strftime(\"%Y%m%d_%H%M%S\")\n",
    "    results_path = f\"{dir}/{name}_{timestamp}.json\"\n",
    "\n",
    "    with open(results_path, 'w') as f:\n",
    "        json.dump(results, f, indent=4, default=str)\n",
    "    \n",
    "    print(f\"{name} results saved to {results_path}\")"
   ]
  },
  {
   "cell_type": "code",
   "execution_count": null,
   "metadata": {},
   "outputs": [],
   "source": [
    "# Start\n",
    "\n",
    "def start(model: YOLO | RTDETR, config):\n",
    "    train_results = model.train(\n",
    "        trainer=MergedClassDetectionTrainer,\n",
    "        **config['train']\n",
    "        )\n",
    "\n",
    "    test_results = model.val(\n",
    "        validator=MergedClassDetectionValidator,\n",
    "        **config['val']\n",
    "        )\n",
    "\n",
    "    return train_results, test_results"
   ]
  },
  {
   "cell_type": "code",
   "execution_count": null,
   "metadata": {},
   "outputs": [],
   "source": [
    "# Wandb\n",
    "\n",
    "settings.update({\"wandb\": True})\n",
    "\n",
    "def wandb_start():\n",
    "    wandb_api_key = get_wandb_key()\n",
    "    wandb.login(key=wandb_api_key, relogin=True)\n",
    "    wandb.init(project=config[\"wandb\"][\"project\"], group=config[\"wandb\"][\"group\"])\n",
    "    wandb.log(config[\"train\"])"
   ]
  },
  {
   "cell_type": "code",
   "execution_count": null,
   "metadata": {},
   "outputs": [],
   "source": [
    "model = YOLO(config[\"train\"][\"model\"])\n",
    "df_train = sampled_k[['optimizer', 'lr0', 'lrf', 'weight_decay', 'box', 'cls', 'dfl']]"
   ]
  },
  {
   "cell_type": "code",
   "execution_count": null,
   "metadata": {},
   "outputs": [
    {
     "name": "stderr",
     "output_type": "stream",
     "text": [
      "\u001b[34m\u001b[1mwandb\u001b[0m: Using wandb-core as the SDK backend.  Please refer to https://wandb.me/wandb-core for more information.\n"
     ]
    },
    {
     "name": "stdout",
     "output_type": "stream",
     "text": [
      "Loading secrets from ../.env\n",
      "Found keys: ['ROBOFLOW_API_KEY', 'WANDB_API_KEY']\n"
     ]
    },
    {
     "name": "stderr",
     "output_type": "stream",
     "text": [
      "\u001b[34m\u001b[1mwandb\u001b[0m: \u001b[33mWARNING\u001b[0m If you're specifying your api key in code, ensure this code is not shared publicly.\n",
      "\u001b[34m\u001b[1mwandb\u001b[0m: \u001b[33mWARNING\u001b[0m Consider setting the WANDB_API_KEY environment variable, or running `wandb login` from the command line.\n",
      "\u001b[34m\u001b[1mwandb\u001b[0m: Appending key for api.wandb.ai to your netrc file: /ext/home/fperagine/.netrc\n",
      "\u001b[34m\u001b[1mwandb\u001b[0m: Currently logged in as: \u001b[33mfrancescoperagine\u001b[0m (\u001b[33mfrancescoperagine-universit-degli-studi-di-bari-aldo-moro\u001b[0m) to \u001b[32mhttps://api.wandb.ai\u001b[0m. Use \u001b[1m`wandb login --relogin`\u001b[0m to force relogin\n"
     ]
    },
    {
     "data": {
      "text/html": [
       "Tracking run with wandb version 0.19.7"
      ],
      "text/plain": [
       "<IPython.core.display.HTML object>"
      ]
     },
     "metadata": {},
     "output_type": "display_data"
    },
    {
     "data": {
      "text/html": [
       "Run data is saved locally in <code>/ext/home/fperagine/EyeInTheSky/notebooks/wandb/run-20250315_082413-opqf27iz</code>"
      ],
      "text/plain": [
       "<IPython.core.display.HTML object>"
      ]
     },
     "metadata": {},
     "output_type": "display_data"
    },
    {
     "data": {
      "text/html": [
       "Syncing run <strong><a href='https://wandb.ai/francescoperagine-universit-degli-studi-di-bari-aldo-moro/EyeInTheSky_merged/runs/opqf27iz' target=\"_blank\">atomic-disco-78</a></strong> to <a href='https://wandb.ai/francescoperagine-universit-degli-studi-di-bari-aldo-moro/EyeInTheSky_merged' target=\"_blank\">Weights & Biases</a> (<a href='https://wandb.me/developer-guide' target=\"_blank\">docs</a>)<br>"
      ],
      "text/plain": [
       "<IPython.core.display.HTML object>"
      ]
     },
     "metadata": {},
     "output_type": "display_data"
    },
    {
     "data": {
      "text/html": [
       " View project at <a href='https://wandb.ai/francescoperagine-universit-degli-studi-di-bari-aldo-moro/EyeInTheSky_merged' target=\"_blank\">https://wandb.ai/francescoperagine-universit-degli-studi-di-bari-aldo-moro/EyeInTheSky_merged</a>"
      ],
      "text/plain": [
       "<IPython.core.display.HTML object>"
      ]
     },
     "metadata": {},
     "output_type": "display_data"
    },
    {
     "data": {
      "text/html": [
       " View run at <a href='https://wandb.ai/francescoperagine-universit-degli-studi-di-bari-aldo-moro/EyeInTheSky_merged/runs/opqf27iz' target=\"_blank\">https://wandb.ai/francescoperagine-universit-degli-studi-di-bari-aldo-moro/EyeInTheSky_merged/runs/opqf27iz</a>"
      ],
      "text/plain": [
       "<IPython.core.display.HTML object>"
      ]
     },
     "metadata": {},
     "output_type": "display_data"
    }
   ],
   "source": [
    "# Train\n",
    "\n",
    "sampled_df = df_train.sample(n=k, random_state=42)\n",
    "\n",
    "for idx, trial in sampled_df.iterrows():\n",
    "    trial_config = config.copy()\n",
    "    trial_config[\"train\"].update(trial)\n",
    "\n",
    "    wandb_start()\n",
    "\n",
    "    train_results, test_results = start(model, trial_config)\n",
    "\n",
    "    save_results(\"../data/processed\", \"train\", train_results)\n",
    "    save_results(\"../data/processed\", \"test\", test_results)\n",
    "\n",
    "    clear_cache()\n",
    "\n",
    "    wandb.finish()"
   ]
  },
  {
   "cell_type": "code",
   "execution_count": null,
   "metadata": {},
   "outputs": [],
   "source": [
    "# Resume\n",
    "\n",
    "# resume_config = config.copy()\n",
    "# del resume_config[\"val\"][\"name\"]\n",
    "# resume_config[\"train\"].update({\n",
    "#     \"epochs\": 300, \n",
    "#     \"device\": 0,\n",
    "#     \"warmup_epochs\": 0,\n",
    "#     \"optimizer\": \"AdamW\",\n",
    "# })\n",
    "# resume_config.update(df_train.iloc[0])\n",
    "# resume_config"
   ]
  }
 ],
 "metadata": {
  "accelerator": "GPU",
  "colab": {
   "gpuType": "T4",
   "machine_shape": "hm",
   "provenance": []
  },
  "kernelspec": {
   "display_name": "venv",
   "language": "python",
   "name": "python3"
  },
  "language_info": {
   "codemirror_mode": {
    "name": "ipython",
    "version": 3
   },
   "file_extension": ".py",
   "mimetype": "text/x-python",
   "name": "python",
   "nbconvert_exporter": "python",
   "pygments_lexer": "ipython3",
   "version": "3.10.12"
  }
 },
 "nbformat": 4,
 "nbformat_minor": 0
}
